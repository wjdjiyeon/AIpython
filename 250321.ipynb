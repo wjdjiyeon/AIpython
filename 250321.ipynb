{
  "nbformat": 4,
  "nbformat_minor": 0,
  "metadata": {
    "colab": {
      "provenance": [],
      "authorship_tag": "ABX9TyPOYI85AhJ9GJIcuKwTvQvb",
      "include_colab_link": true
    },
    "kernelspec": {
      "name": "python3",
      "display_name": "Python 3"
    },
    "language_info": {
      "name": "python"
    }
  },
  "cells": [
    {
      "cell_type": "markdown",
      "metadata": {
        "id": "view-in-github",
        "colab_type": "text"
      },
      "source": [
        "<a href=\"https://colab.research.google.com/github/wjdjiyeon/AIpython/blob/main/250321.ipynb\" target=\"_parent\"><img src=\"https://colab.research.google.com/assets/colab-badge.svg\" alt=\"Open In Colab\"/></a>"
      ]
    },
    {
      "cell_type": "code",
      "execution_count": null,
      "metadata": {
        "colab": {
          "base_uri": "https://localhost:8080/"
        },
        "id": "jZv_Uir4R-_Z",
        "outputId": "3f3a942b-7e4d-4968-edb5-33cfc5f255c0"
      },
      "outputs": [
        {
          "output_type": "stream",
          "name": "stdout",
          "text": [
            "3 -1\n",
            "잘못된 입력\n"
          ]
        }
      ],
      "source": [
        "#가위는1,바위는2,보는3,잘못된 입력\n",
        "a,b=map(int,input().split())\n",
        "if a not in [1, 2, 3] or b not in [1, 2, 3]:\n",
        "    print(\"잘못된 입력\")\n",
        "elif a==b:\n",
        "  print(\"무승부\")\n",
        "elif a==1:\n",
        "  if b==2:\n",
        "    print(\"B승A패\")\n",
        "  elif b==3:\n",
        "    print(\"A승B패\")\n",
        "elif a==2:\n",
        "  if b==1:\n",
        "    print(\"A승B패\")\n",
        "  elif b==3:\n",
        "    print(\"B승A패\")\n",
        "elif a==3:\n",
        "  if b==1:\n",
        "    print(\"B승A패\")\n",
        "  elif b==2:\n",
        "    print(\"A승B패\")"
      ]
    },
    {
      "cell_type": "code",
      "source": [
        "my_age=16\n",
        "my_age=str(my_age)\n",
        "my_food=\"피자\"\n",
        "print(\"내 나이는\", my_age, \"살이고,\",my_food,\"를 좋아해요.\")\n",
        "print(type(my_age))"
      ],
      "metadata": {
        "id": "sONh-ATsjk5V",
        "colab": {
          "base_uri": "https://localhost:8080/"
        },
        "outputId": "848bb1dd-8930-43b1-bf0e-0957a94ef15f"
      },
      "execution_count": 66,
      "outputs": [
        {
          "output_type": "stream",
          "name": "stdout",
          "text": [
            "내 나이는 16 살이고, 피자 를 좋아해요.\n",
            "<class 'str'>\n"
          ]
        }
      ]
    },
    {
      "cell_type": "code",
      "source": [
        "age=int(input(\"나이를 입력\"))\n",
        "age=str(age)\n",
        "print(age+\"살입니다\")"
      ],
      "metadata": {
        "colab": {
          "base_uri": "https://localhost:8080/"
        },
        "id": "7SD7aeRqt_KA",
        "outputId": "6d288aed-6ee6-4d4f-a974-b3bfa010081a"
      },
      "execution_count": 67,
      "outputs": [
        {
          "output_type": "stream",
          "name": "stdout",
          "text": [
            "나이를 입력10\n",
            "10살입니다\n"
          ]
        }
      ]
    },
    {
      "cell_type": "code",
      "source": [
        "age=input(\"나이를 입력\")\n",
        "print(age+\"살입니다\")"
      ],
      "metadata": {
        "colab": {
          "base_uri": "https://localhost:8080/"
        },
        "id": "Fm9pef6LuAin",
        "outputId": "6f5b5e0b-6617-4400-9847-d0ecff05a6a8"
      },
      "execution_count": 68,
      "outputs": [
        {
          "output_type": "stream",
          "name": "stdout",
          "text": [
            "나이를 입력10\n",
            "10살입니다\n"
          ]
        }
      ]
    },
    {
      "cell_type": "code",
      "source": [
        "#입력한 숫자의 양수/음수 유무 판단\n",
        "num=int(input())\n",
        "if num >0:\n",
        "    print(\"양수입니다.\")\n",
        "elif num<0:\n",
        "    print(\"음수입니다.\")\n",
        "else:\n",
        "    print(0)"
      ],
      "metadata": {
        "colab": {
          "base_uri": "https://localhost:8080/"
        },
        "id": "4LQ8G3VquBzA",
        "outputId": "389acdec-695f-43fc-ca47-965ba4754b0a"
      },
      "execution_count": 69,
      "outputs": [
        {
          "output_type": "stream",
          "name": "stdout",
          "text": [
            "5\n",
            "양수입니다.\n"
          ]
        }
      ]
    },
    {
      "cell_type": "code",
      "source": [
        "#짝수 홀수 구분\n",
        "n=int(input())\n",
        "if n%2==0:\n",
        "    print(\"짝수\")\n",
        "else:\n",
        "    print(\"홀수\")"
      ],
      "metadata": {
        "colab": {
          "base_uri": "https://localhost:8080/"
        },
        "id": "dezVXsHCuDD4",
        "outputId": "636996e0-7202-492f-dde2-ef571e4a8571"
      },
      "execution_count": 70,
      "outputs": [
        {
          "output_type": "stream",
          "name": "stdout",
          "text": [
            "7\n",
            "홀수\n"
          ]
        }
      ]
    },
    {
      "cell_type": "code",
      "source": [],
      "metadata": {
        "id": "ucZbhFEIuGhB"
      },
      "execution_count": null,
      "outputs": []
    }
  ]
}