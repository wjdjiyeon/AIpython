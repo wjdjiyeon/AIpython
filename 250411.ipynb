{
 "cells": [
  {
   "cell_type": "code",
   "execution_count": 3,
   "id": "20c02a8c-e316-448e-bdde-81c4f35b7f17",
   "metadata": {},
   "outputs": [
    {
     "name": "stdout",
     "output_type": "stream",
     "text": [
      "이름: 한빛\n",
      "나이: 20\n"
     ]
    }
   ],
   "source": [
    "s='이름: 한빛\\n나이: 20'\n",
    "print(s)"
   ]
  },
  {
   "cell_type": "code",
   "execution_count": 6,
   "id": "1d5bb9eb-a1f4-41f1-921b-d35cbb4e9bba",
   "metadata": {},
   "outputs": [
    {
     "name": "stdout",
     "output_type": "stream",
     "text": [
      "Male\n"
     ]
    }
   ],
   "source": [
    "id='250411-111111'\n",
    "if id[7]=='1' or id[7]=='3':\n",
    "    print('Male')\n",
    "elif id[7]=='2' or id[7]=='4':\n",
    "    print('Female')"
   ]
  },
  {
   "cell_type": "code",
   "execution_count": 10,
   "id": "090e50dc-41e2-4653-8590-d3360d066274",
   "metadata": {},
   "outputs": [
    {
     "name": "stdin",
     "output_type": "stream",
     "text": [
      " abc\n"
     ]
    },
    {
     "name": "stdout",
     "output_type": "stream",
     "text": [
      "회문아님\n"
     ]
    }
   ],
   "source": [
    "s1=input()\n",
    "s2=''\n",
    "\n",
    "for i in range(len(s1)-1,-1,-1):\n",
    "    s2=s2+s1[i]\n",
    "\n",
    "if s1==s2:\n",
    "    print('회문')\n",
    "else:\n",
    "    print('회문아님')"
   ]
  },
  {
   "cell_type": "code",
   "execution_count": 13,
   "id": "904ed246-0c9c-455b-9857-2733a8275b93",
   "metadata": {},
   "outputs": [
    {
     "name": "stdin",
     "output_type": "stream",
     "text": [
      " aba\n"
     ]
    },
    {
     "name": "stdout",
     "output_type": "stream",
     "text": [
      "회문\n"
     ]
    }
   ],
   "source": [
    "s1=input()\n",
    "s2=s1[::-1]\n",
    "\n",
    "if s1==s2:\n",
    "    print('회문')\n",
    "else:\n",
    "    print('회문아님')"
   ]
  },
  {
   "cell_type": "code",
   "execution_count": 14,
   "id": "7b7d13ce-be87-48a1-ab91-06b97a41f8d1",
   "metadata": {},
   "outputs": [
    {
     "name": "stdin",
     "output_type": "stream",
     "text": [
      " Hello\n",
      " PYTHON\n",
      " exit\n"
     ]
    },
    {
     "name": "stdout",
     "output_type": "stream",
     "text": [
      "hello\n",
      "python\n"
     ]
    }
   ],
   "source": [
    "lower_list=[]\n",
    "\n",
    "while True:\n",
    "    s=input()\n",
    "    if s=='exit':\n",
    "        break\n",
    "    lower_list.append(s.lower())\n",
    "\n",
    "for a in lower_list:\n",
    "    print(a)"
   ]
  },
  {
   "cell_type": "code",
   "execution_count": 15,
   "id": "1298a841-b2e5-4b4a-9927-e769bb91bde1",
   "metadata": {},
   "outputs": [
    {
     "name": "stdin",
     "output_type": "stream",
     "text": [
      "몸무게: 67kg\n"
     ]
    },
    {
     "name": "stdout",
     "output_type": "stream",
     "text": [
      "67\n"
     ]
    }
   ],
   "source": [
    "s=input('몸무게:')\n",
    "if s.find('kg')!=-1:\n",
    "    s=s.rstrip('kg')\n",
    "print(s)"
   ]
  },
  {
   "cell_type": "code",
   "execution_count": 16,
   "id": "d16515ab-bed5-43d7-97f2-284baea51bf6",
   "metadata": {},
   "outputs": [
    {
     "name": "stdout",
     "output_type": "stream",
     "text": [
      "['부산시', '금정구']\n"
     ]
    }
   ],
   "source": [
    "s='부산시 금정구'\n",
    "print(s.split())"
   ]
  },
  {
   "cell_type": "code",
   "execution_count": 35,
   "id": "f57cbf63-e10d-4548-a20c-1510ab290321",
   "metadata": {},
   "outputs": [
    {
     "name": "stdin",
     "output_type": "stream",
     "text": [
      "숫자를 입력하세요(문자숫자로): 1235\n"
     ]
    },
    {
     "name": "stdout",
     "output_type": "stream",
     "text": [
      "다시 입력하세요. 비밀번호는 문자와 숫자로 구성되어야 합니다.\n"
     ]
    },
    {
     "name": "stdin",
     "output_type": "stream",
     "text": [
      "숫자를 입력하세요(문자숫자로): ㅁㅇ러ㅏㅣ\n"
     ]
    },
    {
     "name": "stdout",
     "output_type": "stream",
     "text": [
      "다시 입력하세요. 비밀번호는 문자와 숫자로 구성되어야 합니다.\n"
     ]
    },
    {
     "name": "stdin",
     "output_type": "stream",
     "text": [
      "숫자를 입력하세요(문자숫자로): adkl456\n"
     ]
    },
    {
     "name": "stdout",
     "output_type": "stream",
     "text": [
      "통과\n"
     ]
    }
   ],
   "source": [
    "#사용자로부터 비밀번호를 입력받아 문자와 숫자가 섞여있으면 통과라고 프린트, 아니면 다시 입력받도록\n",
    "while True:\n",
    "    s=input('숫자를 입력하세요(문자숫자로):')\n",
    "    result=s.isalnum()\n",
    "    if s.isalnum()==True and s.isdigit()!=True and s.isalpha()!=True:\n",
    "        print('통과')\n",
    "        break\n",
    "    else:\n",
    "        print('다시 입력하세요. 비밀번호는 문자와 숫자로 구성되어야 합니다.')"
   ]
  },
  {
   "cell_type": "code",
   "execution_count": 37,
   "id": "71a651c9-3f56-4779-9d25-a814a8eeed71",
   "metadata": {},
   "outputs": [
    {
     "name": "stdout",
     "output_type": "stream",
     "text": [
      "{'나는': 2, '파이썬을': 1, '공부한다': 1, '파이썬은': 1, '재미있다': 1, '코딩을': 1, '좋아한다': 1}\n"
     ]
    }
   ],
   "source": [
    "문장 = \"나는 파이썬을 공부한다 파이썬은 재미있다 나는 코딩을 좋아한다\"\n",
    "단어들 = 문장.split()\n",
    "빈도수={}\n",
    "\n",
    "for 단어 in 단어들:\n",
    "    if 단어 in 빈도수:\n",
    "        빈도수[단어]+=1\n",
    "    else:\n",
    "        빈도수[단어]=1\n",
    "\n",
    "print(빈도수)"
   ]
  },
  {
   "cell_type": "code",
   "execution_count": null,
   "id": "942289b3-bdd5-488c-b7e1-6745c38a9f2c",
   "metadata": {},
   "outputs": [],
   "source": []
  }
 ],
 "metadata": {
  "kernelspec": {
   "display_name": "Python 3 (ipykernel)",
   "language": "python",
   "name": "python3"
  },
  "language_info": {
   "codemirror_mode": {
    "name": "ipython",
    "version": 3
   },
   "file_extension": ".py",
   "mimetype": "text/x-python",
   "name": "python",
   "nbconvert_exporter": "python",
   "pygments_lexer": "ipython3",
   "version": "3.12.6"
  }
 },
 "nbformat": 4,
 "nbformat_minor": 5
}
