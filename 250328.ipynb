{
  "nbformat": 4,
  "nbformat_minor": 0,
  "metadata": {
    "colab": {
      "provenance": [],
      "authorship_tag": "ABX9TyMAmPt5aHaRReLkOw6UHecK",
      "include_colab_link": true
    },
    "kernelspec": {
      "name": "python3",
      "display_name": "Python 3"
    },
    "language_info": {
      "name": "python"
    }
  },
  "cells": [
    {
      "cell_type": "markdown",
      "metadata": {
        "id": "view-in-github",
        "colab_type": "text"
      },
      "source": [
        "<a href=\"https://colab.research.google.com/github/wjdjiyeon/AIpython/blob/main/250328.ipynb\" target=\"_parent\"><img src=\"https://colab.research.google.com/assets/colab-badge.svg\" alt=\"Open In Colab\"/></a>"
      ]
    },
    {
      "cell_type": "code",
      "execution_count": 14,
      "metadata": {
        "colab": {
          "base_uri": "https://localhost:8080/"
        },
        "id": "6eTDIrSfSD-e",
        "outputId": "c3056d52-b772-412f-b52b-bd6bfb4a9b50"
      },
      "outputs": [
        {
          "output_type": "stream",
          "name": "stdout",
          "text": [
            "1 2\n",
            "1은(는) 2보다 작습니다.\n"
          ]
        }
      ],
      "source": [
        "n1,n2=map(int,input().split())\n",
        "\n",
        "if n1>n2:\n",
        "  print(f'{n1}은(는) {n2}보다 큽니다.')\n",
        "elif n1<n2:\n",
        "  print(f'{n1}은(는) {n2}보다 작습니다.')\n",
        "else:\n",
        "  print(f'{n1}과(와) {n2}은(는) 같습니다.')"
      ]
    },
    {
      "cell_type": "code",
      "source": [
        "num1,num2,num3=map(int,input().split())\n",
        "max_num=num1\n",
        "\n",
        "if max_num<=num2:\n",
        "  max_num=num2\n",
        "if max_num<num3:\n",
        "  max_num=num3\n",
        "print(max_num)"
      ],
      "metadata": {
        "colab": {
          "base_uri": "https://localhost:8080/"
        },
        "id": "1dV4rHyYT_QX",
        "outputId": "3e68f3d2-3d5c-4a78-ea0f-1244fa6f6efe"
      },
      "execution_count": 26,
      "outputs": [
        {
          "output_type": "stream",
          "name": "stdout",
          "text": [
            "3 2 1\n",
            "3\n"
          ]
        }
      ]
    },
    {
      "cell_type": "code",
      "source": [
        "num1,num2,num3=map(int,input().split())\n",
        "num_list=[num1,num2,num3]\n",
        "num_list.sort()\n",
        "print(num_list[-1])"
      ],
      "metadata": {
        "colab": {
          "base_uri": "https://localhost:8080/"
        },
        "id": "ETvfNnCeXfSX",
        "outputId": "5b7692db-10a9-4c8f-d417-f1d411b71757"
      },
      "execution_count": 22,
      "outputs": [
        {
          "output_type": "stream",
          "name": "stdout",
          "text": [
            "2 1 3\n",
            "3\n"
          ]
        }
      ]
    },
    {
      "cell_type": "code",
      "source": [
        "grade=int(input())\n",
        "if grade>100 or grade<0:\n",
        "  print(\"점수는 0부터 100 사이의 값이여야 합니다.\")\n",
        "elif grade>=90:\n",
        "  print('A')\n",
        "elif grade>=80:\n",
        "  print('B')\n",
        "elif grade>=70:\n",
        "  print('C')\n",
        "elif grade>=60:\n",
        "  print('D')\n",
        "else:\n",
        "  print('F')"
      ],
      "metadata": {
        "colab": {
          "base_uri": "https://localhost:8080/"
        },
        "id": "NT0O8Q47aUI2",
        "outputId": "76f4d3e6-cf5d-4ef9-ae8f-44bb9497f5b6"
      },
      "execution_count": 38,
      "outputs": [
        {
          "output_type": "stream",
          "name": "stdout",
          "text": [
            "50\n",
            "F\n"
          ]
        }
      ]
    },
    {
      "cell_type": "code",
      "source": [
        "year=int(input())\n",
        "if (year%4==0 and year%100!=0) or (year%400==0):\n",
        "  print(\"윤년\")\n",
        "else:\n",
        "  print(\"평년\")"
      ],
      "metadata": {
        "colab": {
          "base_uri": "https://localhost:8080/"
        },
        "id": "5xv3ejAeeKlW",
        "outputId": "15750a65-f93d-470f-d160-731018f539b4"
      },
      "execution_count": 43,
      "outputs": [
        {
          "output_type": "stream",
          "name": "stdout",
          "text": [
            "2016\n",
            "윤년\n"
          ]
        }
      ]
    },
    {
      "cell_type": "code",
      "source": [
        "for i in range(5):\n",
        "  print(i)"
      ],
      "metadata": {
        "colab": {
          "base_uri": "https://localhost:8080/"
        },
        "id": "BmX7HzcGfm6V",
        "outputId": "b6773027-65f3-4604-ba78-7fd14e4f108d"
      },
      "execution_count": 44,
      "outputs": [
        {
          "output_type": "stream",
          "name": "stdout",
          "text": [
            "0\n",
            "1\n",
            "2\n",
            "3\n",
            "4\n"
          ]
        }
      ]
    },
    {
      "cell_type": "code",
      "source": [
        "for i in range(1,6):\n",
        "  print(i,end=' ')"
      ],
      "metadata": {
        "colab": {
          "base_uri": "https://localhost:8080/"
        },
        "id": "nNrSovL-k5uF",
        "outputId": "beedabe4-6ae5-4ea3-edfc-a22d3bf61d1e"
      },
      "execution_count": 47,
      "outputs": [
        {
          "output_type": "stream",
          "name": "stdout",
          "text": [
            "1 2 3 4 5 "
          ]
        }
      ]
    },
    {
      "cell_type": "code",
      "source": [
        "for i in [1,2,3,4,5]:\n",
        "  print('반복!',i)"
      ],
      "metadata": {
        "colab": {
          "base_uri": "https://localhost:8080/"
        },
        "id": "aMt6uOIWlCx0",
        "outputId": "39bf396a-5453-43d4-c1d3-7f7c02b060c1"
      },
      "execution_count": 48,
      "outputs": [
        {
          "output_type": "stream",
          "name": "stdout",
          "text": [
            "반복! 1\n",
            "반복! 2\n",
            "반복! 3\n",
            "반복! 4\n",
            "반복! 5\n"
          ]
        }
      ]
    },
    {
      "cell_type": "code",
      "source": [
        "count=0\n",
        "while count<3:\n",
        "  print(count)\n",
        "  count+=1"
      ],
      "metadata": {
        "colab": {
          "base_uri": "https://localhost:8080/"
        },
        "id": "6-hmg4xamyIU",
        "outputId": "4636ee9a-bd8b-4333-c3a9-071559d11694"
      },
      "execution_count": 49,
      "outputs": [
        {
          "output_type": "stream",
          "name": "stdout",
          "text": [
            "0\n",
            "1\n",
            "2\n"
          ]
        }
      ]
    },
    {
      "cell_type": "code",
      "source": [
        "n=int(input())\n",
        "sum=0\n",
        "for i in range(1,n+1):\n",
        "  sum+=i\n",
        "\n",
        "print(sum)"
      ],
      "metadata": {
        "colab": {
          "base_uri": "https://localhost:8080/"
        },
        "id": "h3YqL2YDocXE",
        "outputId": "ee05d1de-d078-4d84-bfd4-8d0d98290588"
      },
      "execution_count": 51,
      "outputs": [
        {
          "output_type": "stream",
          "name": "stdout",
          "text": [
            "5\n",
            "1\n",
            "2\n",
            "3\n",
            "4\n",
            "5\n",
            "15\n"
          ]
        }
      ]
    },
    {
      "cell_type": "code",
      "source": [
        "num=0\n",
        "while True:\n",
        "  if num==10:\n",
        "    break\n",
        "  print(num)\n",
        "  num+=1"
      ],
      "metadata": {
        "colab": {
          "base_uri": "https://localhost:8080/"
        },
        "id": "Lqx6cKOrriYU",
        "outputId": "3b9547cf-af3f-44eb-b2c7-c57c57db59a6"
      },
      "execution_count": 54,
      "outputs": [
        {
          "output_type": "stream",
          "name": "stdout",
          "text": [
            "0\n",
            "1\n",
            "2\n",
            "3\n",
            "4\n",
            "5\n",
            "6\n",
            "7\n",
            "8\n",
            "9\n"
          ]
        }
      ]
    },
    {
      "cell_type": "code",
      "source": [
        "num=0\n",
        "while num<10:\n",
        "  print(num)\n",
        "  num+=1"
      ],
      "metadata": {
        "colab": {
          "base_uri": "https://localhost:8080/"
        },
        "id": "5fRJDmBzr5tk",
        "outputId": "cb595110-fa27-4488-f3c4-fcabed9408e7"
      },
      "execution_count": 55,
      "outputs": [
        {
          "output_type": "stream",
          "name": "stdout",
          "text": [
            "0\n",
            "1\n",
            "2\n",
            "3\n",
            "4\n",
            "5\n",
            "6\n",
            "7\n",
            "8\n",
            "9\n"
          ]
        }
      ]
    },
    {
      "cell_type": "code",
      "source": [
        "for i in range(10):\n",
        "  print(i)"
      ],
      "metadata": {
        "colab": {
          "base_uri": "https://localhost:8080/"
        },
        "id": "m0beRn8HsFqj",
        "outputId": "6ea22342-b657-41d1-c9d3-5c424fd2ae15"
      },
      "execution_count": 56,
      "outputs": [
        {
          "output_type": "stream",
          "name": "stdout",
          "text": [
            "0\n",
            "1\n",
            "2\n",
            "3\n",
            "4\n",
            "5\n",
            "6\n",
            "7\n",
            "8\n",
            "9\n"
          ]
        }
      ]
    },
    {
      "cell_type": "code",
      "source": [],
      "metadata": {
        "id": "5a6VgOwjsK30"
      },
      "execution_count": null,
      "outputs": []
    }
  ]
}