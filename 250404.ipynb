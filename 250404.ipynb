{
 "cells": [
  {
   "cell_type": "code",
   "execution_count": 6,
   "id": "2382feb0-07f8-4775-bf57-6cb57416ca4a",
   "metadata": {},
   "outputs": [
    {
     "name": "stdin",
     "output_type": "stream",
     "text": [
      "온도종류(섭씨 또는 화씨): 화씨\n",
      "화씨온도: 68\n"
     ]
    },
    {
     "name": "stdout",
     "output_type": "stream",
     "text": [
      "섭씨 온도20.0\n"
     ]
    }
   ],
   "source": [
    "kind=input(\"온도종류(섭씨 또는 화씨):\")\n",
    "temp=int(input(kind+'온도:'))\n",
    "\n",
    "if kind==\"섭씨\":\n",
    "    print(f'화씨 온도{temp+9/5+32}')\n",
    "else:\n",
    "    print(f'섭씨 온도{(temp-32)*5/9}')"
   ]
  },
  {
   "cell_type": "code",
   "execution_count": 12,
   "id": "64105c32-8f81-41e1-90f0-82114de273cd",
   "metadata": {},
   "outputs": [
    {
     "name": "stdin",
     "output_type": "stream",
     "text": [
      "온도종류(섭씨 또는 화씨): 화씨\n",
      "화씨온도: 68\n"
     ]
    },
    {
     "name": "stdout",
     "output_type": "stream",
     "text": [
      "온도: 20.00\n"
     ]
    }
   ],
   "source": [
    "kind=input(\"온도종류(섭씨 또는 화씨):\")\n",
    "temp=int(input(kind+'온도:'))\n",
    "\n",
    "if kind==\"섭씨\":\n",
    "    f=temp+9/5+32\n",
    "    print('온도: %.2f'% f)\n",
    "    \n",
    "else:\n",
    "    c=(temp-32)*5/9\n",
    "    print('온도: %.2f'%c)"
   ]
  },
  {
   "cell_type": "code",
   "execution_count": 49,
   "id": "2a25eece-15f2-45b5-8463-c906d3fa86b3",
   "metadata": {},
   "outputs": [
    {
     "name": "stdout",
     "output_type": "stream",
     "text": [
      "1부터 100까지의 수 하나를 정했습ㄴ다.\n",
      "이 숫자를 맞혀보세요.\n"
     ]
    },
    {
     "name": "stdin",
     "output_type": "stream",
     "text": [
      "1~100 숫자 입력:  50\n"
     ]
    },
    {
     "name": "stdout",
     "output_type": "stream",
     "text": [
      "50보다 큽니다.\n"
     ]
    },
    {
     "name": "stdin",
     "output_type": "stream",
     "text": [
      "1~100 숫자 입력:  75\n"
     ]
    },
    {
     "name": "stdout",
     "output_type": "stream",
     "text": [
      "75보다 작습니다.\n"
     ]
    },
    {
     "name": "stdin",
     "output_type": "stream",
     "text": [
      "1~100 숫자 입력:  60\n"
     ]
    },
    {
     "name": "stdout",
     "output_type": "stream",
     "text": [
      "60보다 큽니다.\n"
     ]
    },
    {
     "name": "stdin",
     "output_type": "stream",
     "text": [
      "1~100 숫자 입력:  67\n"
     ]
    },
    {
     "name": "stdout",
     "output_type": "stream",
     "text": [
      "67보다 큽니다.\n"
     ]
    },
    {
     "name": "stdin",
     "output_type": "stream",
     "text": [
      "1~100 숫자 입력:  70\n"
     ]
    },
    {
     "name": "stdout",
     "output_type": "stream",
     "text": [
      "정답입니다! 5회 만에 맞혔습니다.\n"
     ]
    }
   ],
   "source": [
    "import random\n",
    "\n",
    "print('1부터 100까지의 수 하나를 정했습ㄴ다.')\n",
    "print('이 숫자를 맞혀보세요.')\n",
    "\n",
    "answer = random.randint(1,100)\n",
    "times=0\n",
    "#print(answer)\n",
    "\n",
    "while True:\n",
    "    user=int(input('1~100 숫자 입력: ' ))\n",
    "    times+=1\n",
    "    if user == answer:\n",
    "        break\n",
    "    elif user<answer:\n",
    "        print(f'{user}보다 큽니다.')\n",
    "    else:\n",
    "        print(f'{user}보다 작습니다.')\n",
    "\n",
    "print(f'정답입니다! {times}회 만에 맞혔습니다.')"
   ]
  },
  {
   "cell_type": "code",
   "execution_count": 16,
   "id": "204b9c55-a12b-4c1c-9d6e-1de7641f9b10",
   "metadata": {},
   "outputs": [
    {
     "name": "stdout",
     "output_type": "stream",
     "text": [
      "[27, 6, 39, 3, 31, 44]\n"
     ]
    }
   ],
   "source": [
    "num_list=[]\n",
    "for i in range(6):\n",
    "    n = random.randint(1,45)\n",
    "    num_list.append(n)\n",
    "print(num_list)"
   ]
  },
  {
   "cell_type": "code",
   "execution_count": 48,
   "id": "a4916fe5-c53d-425f-a6d9-eb3b22f8af42",
   "metadata": {},
   "outputs": [
    {
     "name": "stdout",
     "output_type": "stream",
     "text": [
      "[15, 27, 23, 5, 40, 30]\n"
     ]
    }
   ],
   "source": [
    "num_list=[]\n",
    "while len(num_list)<6:\n",
    "    n = random.randint(1,45)\n",
    "    if n not in num_list:\n",
    "        num_list.append(n)\n",
    "print(num_list)"
   ]
  },
  {
   "cell_type": "code",
   "execution_count": 50,
   "id": "48321f76-5580-46fa-9220-f247ab6a603b",
   "metadata": {},
   "outputs": [
    {
     "name": "stdout",
     "output_type": "stream",
     "text": [
      "432\n",
      "86.4\n"
     ]
    }
   ],
   "source": [
    "grade = [85,92,78,90,87]\n",
    "print(sum(grade))\n",
    "print(sum(grade)/len(grade))"
   ]
  },
  {
   "cell_type": "code",
   "execution_count": 53,
   "id": "ebc4ef31-d476-4026-8bdb-187182e655f5",
   "metadata": {},
   "outputs": [
    {
     "name": "stdout",
     "output_type": "stream",
     "text": [
      "432\n",
      "86.4\n"
     ]
    }
   ],
   "source": [
    "#sum과 len을 사용할 수 없다면\n",
    "sum=0\n",
    "count=0 #길이 확인\n",
    "for i in grade:\n",
    "    sum+=i\n",
    "    count+=1\n",
    "print(sum)\n",
    "print(sum/count)"
   ]
  },
  {
   "cell_type": "code",
   "execution_count": 55,
   "id": "3fb0e694-3eb9-4ce9-a989-c1aa2cfa6e73",
   "metadata": {},
   "outputs": [
    {
     "name": "stdout",
     "output_type": "stream",
     "text": [
      "['철수', '영희', '지영']\n"
     ]
    }
   ],
   "source": [
    "student=[('철수',85),('영희',92),('민수',65),('지영',78)]\n",
    "result=[]\n",
    "for name, grade in student:\n",
    "    if grade>=70:\n",
    "        result.append(name)\n",
    "print(result)"
   ]
  },
  {
   "cell_type": "code",
   "execution_count": 56,
   "id": "f19e7f2c-8318-4b40-986b-203877320b9f",
   "metadata": {},
   "outputs": [
    {
     "name": "stdout",
     "output_type": "stream",
     "text": [
      "[1, 2, 3, 4, 5, 7, 8]\n"
     ]
    }
   ],
   "source": [
    "nums=[1,2,2,2,1,5,3,3,3,4,5,7,8,1,5,1,2,3]\n",
    "result_nums=list(set(nums))\n",
    "print(result_nums)"
   ]
  },
  {
   "cell_type": "code",
   "execution_count": 59,
   "id": "ae9e64a3-9865-417d-9aca-e9957363ae7e",
   "metadata": {},
   "outputs": [
    {
     "name": "stdout",
     "output_type": "stream",
     "text": [
      "과일 리스트: ['사과', '바나나', '딸기', '포도']\n",
      "첫번째 과일: 사과\n",
      "마지막 과일: 포도\n"
     ]
    }
   ],
   "source": [
    "#문제1\n",
    "fruits=['사과','바나나','딸기','포도']\n",
    "print(f'과일 리스트: {fruits}')\n",
    "\n",
    "first_fruit=fruits[0]\n",
    "print(f'첫번째 과일: {first_fruit}')\n",
    "\n",
    "last_fruit=fruits[-1]\n",
    "print(f'마지막 과일: {last_fruit}')\n"
   ]
  },
  {
   "cell_type": "code",
   "execution_count": 60,
   "id": "a6099a24-edef-4eba-997e-bc8fb9314499",
   "metadata": {},
   "outputs": [
    {
     "name": "stdout",
     "output_type": "stream",
     "text": [
      "원래 과일 리스트: ['사과', '바나나', '딸기', '포도']\n",
      "요소 추가 후 리스트: ['사과', '바나나', '딸기', '포도', '오렌지']\n",
      "요소 삭제 후 리스트: ['사과', '딸기', '포도', '오렌지']\n"
     ]
    }
   ],
   "source": [
    "fruits=['사과','바나나','딸기','포도']\n",
    "print(f'원래 과일 리스트: {fruits}')\n",
    "\n",
    "fruits.append('오렌지')\n",
    "print(f'요소 추가 후 리스트: {fruits}')\n",
    "\n",
    "fruits.remove('바나나')\n",
    "print(f'요소 삭제 후 리스트: {fruits}')"
   ]
  },
  {
   "cell_type": "code",
   "execution_count": 63,
   "id": "fff91483-615b-4780-9710-28e9f92629bf",
   "metadata": {},
   "outputs": [
    {
     "name": "stdout",
     "output_type": "stream",
     "text": [
      "숫자 리스트의 요소:\n",
      "1 5 12 8 21 "
     ]
    }
   ],
   "source": [
    "numbers=[1,5,12,8,21]\n",
    "print('숫자 리스트의 요소:')\n",
    "for k in numbers:\n",
    "    print(k,end=' ')"
   ]
  },
  {
   "cell_type": "code",
   "execution_count": 64,
   "id": "d17e1b98-7953-4a97-ae75-0969ef8f57f1",
   "metadata": {},
   "outputs": [
    {
     "name": "stdout",
     "output_type": "stream",
     "text": [
      "원래 색깔 리스트: ['빨강', '초록', '파랑']\n",
      "요소 변경 후 색깔 리스트: ['빨강', '노랑', '파랑']\n"
     ]
    }
   ],
   "source": [
    "colors=['빨강','초록','파랑']\n",
    "print(f'원래 색깔 리스트: {colors}')\n",
    "\n",
    "colors[1]='노랑'\n",
    "print(f'요소 변경 후 색깔 리스트: {colors}')"
   ]
  },
  {
   "cell_type": "code",
   "execution_count": null,
   "id": "7755756d-29e3-473f-af08-367a811f28c7",
   "metadata": {},
   "outputs": [],
   "source": [
    "#문제5\n",
    "list1=[1,2,3]\n",
    "list2=[4,5,6]\n",
    "print(f'첫번재 리스트: {list1}')\n",
    "print(f'두번재 리스트: {list1}')"
   ]
  }
 ],
 "metadata": {
  "kernelspec": {
   "display_name": "Python 3 (ipykernel)",
   "language": "python",
   "name": "python3"
  },
  "language_info": {
   "codemirror_mode": {
    "name": "ipython",
    "version": 3
   },
   "file_extension": ".py",
   "mimetype": "text/x-python",
   "name": "python",
   "nbconvert_exporter": "python",
   "pygments_lexer": "ipython3",
   "version": "3.12.6"
  }
 },
 "nbformat": 4,
 "nbformat_minor": 5
}
