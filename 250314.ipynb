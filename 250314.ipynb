{
  "nbformat": 4,
  "nbformat_minor": 0,
  "metadata": {
    "colab": {
      "provenance": []
    },
    "kernelspec": {
      "name": "python3",
      "display_name": "Python 3"
    },
    "language_info": {
      "name": "python"
    }
  },
  "cells": [
    {
      "cell_type": "code",
      "execution_count": 6,
      "metadata": {
        "colab": {
          "base_uri": "https://localhost:8080/"
        },
        "id": "YdNF2_7Mc9r-",
        "outputId": "bb8b1970-e326-4770-8203-ac35517cae8f"
      },
      "outputs": [
        {
          "output_type": "stream",
          "name": "stdout",
          "text": [
            "\"반지름이 5인 원의 면적은 78.5398 입니다\"\n"
          ]
        }
      ],
      "source": [
        "#문제1 반지름이 5인 원의 면적을 구하시오. 원주율의 값은 3.141592로 계산합니다.\n",
        "\n",
        "r=5\n",
        "result=3.141592*(r**2)\n",
        "print(f'\"반지름이 5인 원의 면적은 {result} 입니다\"')"
      ]
    },
    {
      "cell_type": "code",
      "source": [
        "#문제2 분(정수)을 시간과 분으로 변환하여 출력하시오\n",
        "n=int(input())\n",
        "hour=n//60\n",
        "min=n-(hour*60)\n",
        "print(f'{n}분은 {hour}시간 {min}분 입니다.')"
      ],
      "metadata": {
        "colab": {
          "base_uri": "https://localhost:8080/"
        },
        "id": "HpS4Fuvadjs-",
        "outputId": "6d23ab57-6dab-45f3-d320-7301748732e1"
      },
      "execution_count": 12,
      "outputs": [
        {
          "output_type": "stream",
          "name": "stdout",
          "text": [
            "200\n",
            "200분은 3시간 20분 입니다.\n"
          ]
        }
      ]
    },
    {
      "cell_type": "code",
      "source": [],
      "metadata": {
        "id": "CiXoRY-2eMMt"
      },
      "execution_count": null,
      "outputs": []
    }
  ]
}