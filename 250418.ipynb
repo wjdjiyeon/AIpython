{
 "cells": [
  {
   "cell_type": "code",
   "execution_count": 20,
   "id": "b7a438a2-98d7-4872-97e5-afe4d14fd40e",
   "metadata": {},
   "outputs": [
    {
     "name": "stdout",
     "output_type": "stream",
     "text": [
      "학생 정보 딕셔너리:{'name': '김민수', 'age': 20, 'major': '컴퓨터공학'}\n"
     ]
    }
   ],
   "source": [
    "#문제1: 딕셔너리 생성 및 요소 접근\n",
    "\n",
    "student={\n",
    "    'name':'김민수',\n",
    "    'age':20,\n",
    "    'major':'컴퓨터공학'\n",
    "}\n",
    "print(f\"학생 정보 딕셔너리:{student}\")"
   ]
  },
  {
   "cell_type": "code",
   "execution_count": 21,
   "id": "41b4b636-602d-4c57-aeab-a5b62ca9c311",
   "metadata": {},
   "outputs": [
    {
     "name": "stdout",
     "output_type": "stream",
     "text": [
      "이름:김민수\n",
      "나이:20\n",
      "전공:컴퓨터공학\n"
     ]
    }
   ],
   "source": [
    "#문제2:딕셔너리 요소 추가 및 삭제\n",
    "name=student['name']\n",
    "print(f\"이름:{name}\")\n",
    "\n",
    "age=student['age']\n",
    "print(f\"나이:{age}\")\n",
    "\n",
    "major=student['major']\n",
    "print(f\"전공:{major}\")"
   ]
  },
  {
   "cell_type": "code",
   "execution_count": 22,
   "id": "e944591f-3b7b-4bc4-964b-4054741b4bf8",
   "metadata": {},
   "outputs": [
    {
     "name": "stdout",
     "output_type": "stream",
     "text": [
      "원래 학생 정보 딕셔너리:{'name': '김민수', 'age': 20, 'major': '컴퓨터공학'}\n",
      "요소 추가 후 딕셔너리:{'name': '김민수', 'age': 20, 'major': '컴퓨터공학', 'grade': 4.0}\n",
      "요소 삭제 후 딕셔너리:{'name': '김민수', 'age': 20, 'grade': 4.0}\n"
     ]
    }
   ],
   "source": [
    "print(f\"원래 학생 정보 딕셔너리:{student}\")\n",
    "\n",
    "student['grade']=4.0\n",
    "print(f\"요소 추가 후 딕셔너리:{student}\")\n",
    "\n",
    "del student['major']\n",
    "print(f\"요소 삭제 후 딕셔너리:{student}\")"
   ]
  },
  {
   "cell_type": "code",
   "execution_count": 23,
   "id": "9434ca58-67d7-486f-9416-7d69703ed7b1",
   "metadata": {},
   "outputs": [
    {
     "name": "stdout",
     "output_type": "stream",
     "text": [
      "과일 가격 정보:\n",
      "사과: 1500원\n",
      "바나나: 800원\n",
      "딸기: 3000원\n",
      "오렌지: 1200원\n",
      "\n",
      "과일 목록:\n",
      "사과\n",
      "바나나\n",
      "딸기\n",
      "오렌지\n",
      "\n",
      "가격 목록\n",
      "1500원\n",
      "800원\n",
      "3000원\n",
      "1200원\n"
     ]
    }
   ],
   "source": [
    "#문제 3: 딕셔너리 키와 값 순회하며 출력\n",
    "fruit_prices={\n",
    "    '사과':1500,'바나나':800,'딸기':3000,'오렌지':1200\n",
    "}\n",
    "print(\"과일 가격 정보:\")\n",
    "for fruit, price in fruit_prices.items():\n",
    "    print(f\"{fruit}: {price}원\")\n",
    "\n",
    "print(\"\\n과일 목록:\")\n",
    "for fruit in fruit_prices.keys():\n",
    "    print(fruit)\n",
    "\n",
    "print(\"\\n가격 목록\")\n",
    "for price in fruit_prices.values():\n",
    "    print(f\"{price}원\")"
   ]
  },
  {
   "cell_type": "code",
   "execution_count": 24,
   "id": "2ffd665f-67f8-4fd5-a521-fec995cea9f8",
   "metadata": {},
   "outputs": [
    {
     "name": "stdout",
     "output_type": "stream",
     "text": [
      "원래 과일 가격 딕셔너리: {'사과': 1500, '바나나': 800, '딸기': 3000, '오렌지': 1200}\n",
      "가격 변경후 과일 가격 딕셔너리: {'사과': 1800, '바나나': 800, '딸기': 3000, '오렌지': 1200}\n"
     ]
    }
   ],
   "source": [
    "#문제4: 딕셔너리 요소 값 변경\n",
    "print(f\"원래 과일 가격 딕셔너리: {fruit_prices}\")\n",
    "\n",
    "fruit_prices['사과']=1800\n",
    "print(f\"가격 변경후 과일 가격 딕셔너리: {fruit_prices}\")"
   ]
  },
  {
   "cell_type": "code",
   "execution_count": 36,
   "id": "9f402e38-ec6b-4854-b632-d30e1f9852b5",
   "metadata": {},
   "outputs": [
    {
     "name": "stdout",
     "output_type": "stream",
     "text": [
      "첫 번째 딕셔너리: {'a': 1, 'b': 2, 'c': 3}\n",
      "두 번째 딕셔너리: {'b': 4, 'd': 5}\n",
      "두 딕셔너리 합치기 (update() 결과): {'a': 1, 'b': 4, 'c': 3, 'd': 5}\n"
     ]
    }
   ],
   "source": [
    "#문제5: 두 개의 딕셔너리 합치기\n",
    "dict1={'a': 1,'b': 2,'c': 3}\n",
    "dict2={'b':4, 'd':5}\n",
    "print(f\"첫 번째 딕셔너리: {dict1}\")\n",
    "print(f\"두 번째 딕셔너리: {dict2}\")\n",
    "\n",
    "dict1.update(dict2)\n",
    "print(f\"두 딕셔너리 합치기 (update() 결과): {dict1}\")"
   ]
  },
  {
   "cell_type": "code",
   "execution_count": null,
   "id": "b920dd19-0ceb-48a5-b31a-ba375793fc81",
   "metadata": {},
   "outputs": [],
   "source": []
  }
 ],
 "metadata": {
  "kernelspec": {
   "display_name": "Python 3 (ipykernel)",
   "language": "python",
   "name": "python3"
  },
  "language_info": {
   "codemirror_mode": {
    "name": "ipython",
    "version": 3
   },
   "file_extension": ".py",
   "mimetype": "text/x-python",
   "name": "python",
   "nbconvert_exporter": "python",
   "pygments_lexer": "ipython3",
   "version": "3.12.6"
  }
 },
 "nbformat": 4,
 "nbformat_minor": 5
}
